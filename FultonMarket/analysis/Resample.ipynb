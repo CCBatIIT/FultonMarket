{
 "cells": [
  {
   "cell_type": "code",
   "execution_count": 1,
   "id": "3a2ddcd8-1476-44c4-b527-c64b7a842e2b",
   "metadata": {},
   "outputs": [
    {
     "name": "stderr",
     "output_type": "stream",
     "text": [
      "Warning on use of the timeseries module: If the inherent timescales of the system are long compared to those being analyzed, this statistical inefficiency may be an underestimate.  The estimate presumes the use of many statistically independent samples.  Tests should be performed to assess whether this condition is satisfied.   Be cautious in the interpretation of the data.\n",
      "\n",
      "****** PyMBAR will use 64-bit JAX! *******\n",
      "* JAX is currently set to 32-bit bitsize *\n",
      "* which is its default.                  *\n",
      "*                                        *\n",
      "* PyMBAR requires 64-bit mode and WILL   *\n",
      "* enable JAX's 64-bit mode when called.  *\n",
      "*                                        *\n",
      "* This MAY cause problems with other     *\n",
      "* Uses of JAX in the same code.          *\n",
      "******************************************\n",
      "\n"
     ]
    }
   ],
   "source": [
    "from analysis.FultonMarketAnalysis import FultonMarketAnalysis\n",
    "import numpy as np\n",
    "from sklearn.decomposition import PCA\n",
    "import matplotlib.pyplot as plt\n",
    "from pymbar.timeseries import detect_equilibration\n",
    "import os\n",
    "import netCDF4 as nc"
   ]
  },
  {
   "cell_type": "code",
   "execution_count": 2,
   "id": "de7b202e-65ac-4a09-b714-c5b570e47411",
   "metadata": {},
   "outputs": [
    {
     "name": "stdout",
     "output_type": "stream",
     "text": [
      "10/14/2024 21:25:19 // Found storage directory at /expanse/lustre/projects/iit119/dcooper/MOR/replica_exchange/7u2k_4/saved_variables\n",
      "10/14/2024 21:25:20 // Shapes of temperature arrays: [(0, (100,)), (1, (100,)), (2, (100,)), (3, (100,)), (4, (100,)), (5, (100,)), (6, (101,)), (7, (101,)), (8, (101,)), (9, (101,)), (10, (101,)), (11, (101,)), (12, (101,)), (13, (101,)), (14, (101,)), (15, (101,)), (16, (101,)), (17, (101,)), (18, (101,)), (19, (101,))]\n",
      "10/14/2024 21:25:39 // Detected interpolations at: [[1], [1], [1], [1], [1], [1], [], [], [], [], [], [], [], [], [], [], [], [], [], []]\n"
     ]
    },
    {
     "name": "stderr",
     "output_type": "stream",
     "text": [
      "\n",
      "******* JAX 64-bit mode is now on! *******\n",
      "*     JAX is now set to 64-bit mode!     *\n",
      "*   This MAY cause problems with other   *\n",
      "*      uses of JAX in the same code.     *\n",
      "******************************************\n",
      "\n"
     ]
    },
    {
     "name": "stdout",
     "output_type": "stream",
     "text": [
      "10/14/2024 21:25:40 // Shape of final energies determined to be: (9844, 101, 101)\n"
     ]
    }
   ],
   "source": [
    "# Input\n",
    "sims = ['7OH_0', '7u2k_4', '7u2l_4', 'buprenorphine_0', 'c11guano_1', 'c3guano_1', 'c7guano_1', 'c9guano_1', 'carfentanil_0', 'dynorphin_0', 'LeuEnk_0', 'MetEnk_0', 'oxycodone_0', 'pentazocine_0']\n",
    "repexchange_dir = '/expanse/lustre/projects/iit119/dcooper/MOR/replica_exchange/'\n",
    "pdb_dir = '/expanse/lustre/projects/iit119/dcooper/MOR/equil/output/'\n",
    "output_dir = '/expanse/lustre/projects/iit119/dcooper/MOR/final/resampled/'\n",
    "intracellular_resids = [84, 85, 86, 87, 88, 89, 90, 91, 92, 93, 94, 95, 96, 97, 98, 99, 100, 101, 102, 103, 104, 105, 106, 107, 108, 109, 110, 111, 112, 113, 114, 115, 116, 156, 157, 158, 159, 160, 161, 162, 163, 164, 165, 166, 167, 168, 169, 170, 171, 172, 173, 174, 175, 176, 177, 178, 179, 180, 181, 182, 183, 184, 185, 186, 187, 188, 189, 190, 191, 192, 193, 194, 246, 247, 248, 249, 250, 251, 252, 253, 254, 255, 256, 257, 258, 259, 260, 261, 262, 263, 264, 265, 266, 267, 268, 269, 270, 271, 272, 273, 274, 275, 276, 277, 278, 279, 280, 281, 282, 283, 284, 285, 286, 287, 288, 289, 290, 291, 328, 329, 330, 331, 332, 333, 334, 335, 336, 337, 338, 339, 340, 341, 342, 343, 344, 345, 346, 347, 348, 349]\n",
    "\n",
    "for sim in sims:\n",
    "    # Sim input\n",
    "    print(sim)\n",
    "    dir = os.path.join(repexchange_dir, sim)\n",
    "    pdb = os.path.join(pdb_dir, sim.split('_')[0] + '.pdb')\n",
    "\n",
    "    \n",
    "    # Make obj\n",
    "    analysis = FultonMarketAnalysis(dir, pdb, skip=10, resids=intracellular_resids)\n",
    "    \n",
    "    # Importance Resampling\n",
    "    analysis.importance_resampling()\n",
    "    analysis.write_resampled_traj('test.pdb', 'test.dcd')"
   ]
  },
  {
   "cell_type": "code",
   "execution_count": 5,
   "id": "1940aad6-ac82-4a6f-b4c7-75aaad7ed77d",
   "metadata": {},
   "outputs": [
    {
     "name": "stdout",
     "output_type": "stream",
     "text": [
      "10/14/2024 21:28:06 // Equilibration detected at 350 ns\n"
     ]
    }
   ],
   "source": []
  },
  {
   "cell_type": "code",
   "execution_count": null,
   "id": "499e3a5e-3fd1-415f-9f11-3fd12cddf0b8",
   "metadata": {},
   "outputs": [],
   "source": []
  }
 ],
 "metadata": {
  "kernelspec": {
   "display_name": "Python 3 (ipykernel)",
   "language": "python",
   "name": "python3"
  },
  "language_info": {
   "codemirror_mode": {
    "name": "ipython",
    "version": 3
   },
   "file_extension": ".py",
   "mimetype": "text/x-python",
   "name": "python",
   "nbconvert_exporter": "python",
   "pygments_lexer": "ipython3",
   "version": "3.12.3"
  }
 },
 "nbformat": 4,
 "nbformat_minor": 5
}
